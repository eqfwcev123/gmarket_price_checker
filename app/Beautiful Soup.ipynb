{
 "cells": [
  {
   "cell_type": "code",
   "execution_count": 175,
   "metadata": {},
   "outputs": [],
   "source": [
    "from bs4 import BeautifulSoup\n",
    "import requests\n",
    "import re"
   ]
  },
  {
   "cell_type": "code",
   "execution_count": 269,
   "metadata": {},
   "outputs": [],
   "source": [
    "keyword = 'bose QC20'\n",
    "url = f'http://browse.gmarket.co.kr/search?keyword={keyword}'"
   ]
  },
  {
   "cell_type": "code",
   "execution_count": 270,
   "metadata": {},
   "outputs": [
    {
     "data": {
      "text/plain": [
       "<Response [200]>"
      ]
     },
     "execution_count": 270,
     "metadata": {},
     "output_type": "execute_result"
    }
   ],
   "source": [
    "page = requests.get(url)\n",
    "page"
   ]
  },
  {
   "cell_type": "code",
   "execution_count": 271,
   "metadata": {},
   "outputs": [],
   "source": [
    "soup = BeautifulSoup(page.text,'html.parser')"
   ]
  },
  {
   "cell_type": "code",
   "execution_count": 272,
   "metadata": {},
   "outputs": [],
   "source": [
    "product_title_list = [title.text for title in soup.select('a.link__item > span.text__item')]"
   ]
  },
  {
   "cell_type": "code",
   "execution_count": 273,
   "metadata": {},
   "outputs": [],
   "source": [
    "product_discount_list = [discount_rate.text for discount_rate in soup.select('div.box__discount > span.text__value')]"
   ]
  },
  {
   "cell_type": "code",
   "execution_count": 274,
   "metadata": {},
   "outputs": [],
   "source": [
    "product_selling_price_list = [selling_price.text for selling_price in soup.select('div.box__price-seller > strong.text__value')]"
   ]
  },
  {
   "cell_type": "code",
   "execution_count": 275,
   "metadata": {},
   "outputs": [],
   "source": [
    "product_original_price_list = [original_price.text for original_price in soup.select('div.box__price-original > span.text__value')]"
   ]
  },
  {
   "cell_type": "code",
   "execution_count": 276,
   "metadata": {},
   "outputs": [
    {
     "data": {
      "text/plain": [
       "['BOSE 보스 콰이어트컨트롤 QC30 노이즈 캔슬링 APP연동 ',\n",
       " 'BOSE 정품 QC20 Android용 노이즈캔슬링 이어폰 ',\n",
       " 'BOSE 정품 QC20 애플전용 노이즈캔슬링 이어폰 ',\n",
       " '보스 QC20 소음차단 이어폰/ 안드로이드 기기용/ 블랙 ',\n",
       " '보스 Bose QuietComfort 20 QC20 노이즈캔슬링 이어폰 ',\n",
       " '보스 이어폰 이어팁 IE/IE2/IE3/MIE2/QC20/QC30 (3쌍) ',\n",
       " 'Learsoon Zipper Storage Case Cover Bag Pouch for Bose QC20 QC20i QuietComfort 20 Headphones (Black)  ',\n",
       " 'Zipper Headphone Carrying Case Storage Bag Pouch Compatible Bose QC20 QC 20 QC20i QC 20i QuietComfor ',\n",
       " 'Alitutumao Zipper Carring Case Storage Cover Bag Pouch for Bose QC20 QC 20 QC20i QC 20i QuietComfort ',\n",
       " '보스 QC20 BOSE 노이즈캔슬링 이어폰 정품 ']"
      ]
     },
     "execution_count": 276,
     "metadata": {},
     "output_type": "execute_result"
    }
   ],
   "source": [
    "product_title_list"
   ]
  },
  {
   "cell_type": "code",
   "execution_count": 277,
   "metadata": {},
   "outputs": [
    {
     "data": {
      "text/plain": [
       "['1', '3', '2']"
      ]
     },
     "execution_count": 277,
     "metadata": {},
     "output_type": "execute_result"
    }
   ],
   "source": [
    "product_discount_list"
   ]
  },
  {
   "cell_type": "code",
   "execution_count": 278,
   "metadata": {},
   "outputs": [
    {
     "data": {
      "text/plain": [
       "['325,000',\n",
       " '296,010',\n",
       " '290,030',\n",
       " '349,900',\n",
       " '280,900',\n",
       " '4,990',\n",
       " '21,200',\n",
       " '21,300',\n",
       " '21,200',\n",
       " '370,440']"
      ]
     },
     "execution_count": 278,
     "metadata": {},
     "output_type": "execute_result"
    }
   ],
   "source": [
    "product_selling_price_list"
   ]
  },
  {
   "cell_type": "code",
   "execution_count": 279,
   "metadata": {},
   "outputs": [
    {
     "data": {
      "text/plain": [
       "['299,000', '299,000', '378,000']"
      ]
     },
     "execution_count": 279,
     "metadata": {},
     "output_type": "execute_result"
    }
   ],
   "source": [
    "product_original_price_list"
   ]
  },
  {
   "cell_type": "code",
   "execution_count": 280,
   "metadata": {},
   "outputs": [],
   "source": [
    "full_list = [(h,i,j,k) for h,i,j,k in zip(product_title_list, product_discount_list,product_selling_price_list,product_original_price_list )]"
   ]
  },
  {
   "cell_type": "code",
   "execution_count": 281,
   "metadata": {},
   "outputs": [
    {
     "data": {
      "text/plain": [
       "[('BOSE 보스 콰이어트컨트롤 QC30 노이즈 캔슬링 APP연동 ', '1', '325,000', '299,000'),\n",
       " ('BOSE 정품 QC20 Android용 노이즈캔슬링 이어폰 ', '3', '296,010', '299,000'),\n",
       " ('BOSE 정품 QC20 애플전용 노이즈캔슬링 이어폰 ', '2', '290,030', '378,000')]"
      ]
     },
     "execution_count": 281,
     "metadata": {},
     "output_type": "execute_result"
    }
   ],
   "source": [
    "full_list"
   ]
  },
  {
   "cell_type": "code",
   "execution_count": null,
   "metadata": {},
   "outputs": [],
   "source": []
  },
  {
   "cell_type": "code",
   "execution_count": null,
   "metadata": {},
   "outputs": [],
   "source": []
  },
  {
   "cell_type": "code",
   "execution_count": null,
   "metadata": {},
   "outputs": [],
   "source": []
  },
  {
   "cell_type": "code",
   "execution_count": null,
   "metadata": {},
   "outputs": [],
   "source": []
  },
  {
   "cell_type": "code",
   "execution_count": 282,
   "metadata": {},
   "outputs": [],
   "source": [
    "information = [a.text for a in soup.select('div.box__component > div.box__item-container > div.box__information > div.box__information-major')]"
   ]
  },
  {
   "cell_type": "code",
   "execution_count": 283,
   "metadata": {},
   "outputs": [
    {
     "data": {
      "text/plain": [
       "['', '1%', '3%', '', '', '', '', '', '', '2%']"
      ]
     },
     "execution_count": 283,
     "metadata": {},
     "output_type": "execute_result"
    }
   ],
   "source": [
    "discount_rate = [''.join(re.compile('[\"률\"](\\d+%)').findall(a.text)) for a in soup.select('div.box__component > div.box__item-container > div.box__information > div.box__information-major')]\n",
    "discount_rate    "
   ]
  },
  {
   "cell_type": "code",
   "execution_count": 284,
   "metadata": {},
   "outputs": [
    {
     "data": {
      "text/plain": [
       "['상품금액 325,000',\n",
       " '상품금액 299,000',\n",
       " '상품금액 299,000',\n",
       " '상품금액 349,900',\n",
       " '상품금액 280,900',\n",
       " '상품금액 4,990',\n",
       " '상품금액 21,200',\n",
       " '상품금액 21,300',\n",
       " '상품금액 21,200',\n",
       " '상품금액 378,000']"
      ]
     },
     "execution_count": 284,
     "metadata": {},
     "output_type": "execute_result"
    }
   ],
   "source": [
    "original_price = [''.join(re.compile('(상품금액 \\d+,\\d+)').findall(a.text)) for a in soup.select('div.box__component > div.box__item-container > div.box__information > div.box__information-major')]\n",
    "original_price"
   ]
  },
  {
   "cell_type": "code",
   "execution_count": 285,
   "metadata": {},
   "outputs": [
    {
     "data": {
      "text/plain": [
       "['',\n",
       " '할인적용금액 296,010',\n",
       " '할인적용금액 290,030',\n",
       " '',\n",
       " '',\n",
       " '',\n",
       " '',\n",
       " '',\n",
       " '',\n",
       " '할인적용금액 370,440']"
      ]
     },
     "execution_count": 285,
     "metadata": {},
     "output_type": "execute_result"
    }
   ],
   "source": [
    "discount_price = [''.join(re.compile('(할인적용금액 \\d+,\\d+)').findall(a.text)) for a in soup.select('div.box__component > div.box__item-container > div.box__information > div.box__information-major')]\n",
    "discount_price"
   ]
  },
  {
   "cell_type": "code",
   "execution_count": 286,
   "metadata": {},
   "outputs": [],
   "source": [
    "full_list = [(h,i,j,k) for h,i,j,k in zip(product_title_list, discount_rate, original_price, discount_price )]"
   ]
  },
  {
   "cell_type": "code",
   "execution_count": 287,
   "metadata": {},
   "outputs": [
    {
     "data": {
      "text/plain": [
       "[('BOSE 보스 콰이어트컨트롤 QC30 노이즈 캔슬링 APP연동 ', '', '상품금액 325,000', ''),\n",
       " ('BOSE 정품 QC20 Android용 노이즈캔슬링 이어폰 ', '1%', '상품금액 299,000', '할인적용금액 296,010'),\n",
       " ('BOSE 정품 QC20 애플전용 노이즈캔슬링 이어폰 ', '3%', '상품금액 299,000', '할인적용금액 290,030'),\n",
       " ('보스 QC20 소음차단 이어폰/ 안드로이드 기기용/ 블랙 ', '', '상품금액 349,900', ''),\n",
       " ('보스 Bose QuietComfort 20 QC20 노이즈캔슬링 이어폰 ', '', '상품금액 280,900', ''),\n",
       " ('보스 이어폰 이어팁 IE/IE2/IE3/MIE2/QC20/QC30 (3쌍) ', '', '상품금액 4,990', ''),\n",
       " ('Learsoon Zipper Storage Case Cover Bag Pouch for Bose QC20 QC20i QuietComfort 20 Headphones (Black)  ',\n",
       "  '',\n",
       "  '상품금액 21,200',\n",
       "  ''),\n",
       " ('Zipper Headphone Carrying Case Storage Bag Pouch Compatible Bose QC20 QC 20 QC20i QC 20i QuietComfor ',\n",
       "  '',\n",
       "  '상품금액 21,300',\n",
       "  ''),\n",
       " ('Alitutumao Zipper Carring Case Storage Cover Bag Pouch for Bose QC20 QC 20 QC20i QC 20i QuietComfort ',\n",
       "  '',\n",
       "  '상품금액 21,200',\n",
       "  ''),\n",
       " ('보스 QC20 BOSE 노이즈캔슬링 이어폰 정품 ', '2%', '상품금액 378,000', '할인적용금액 370,440')]"
      ]
     },
     "execution_count": 287,
     "metadata": {},
     "output_type": "execute_result"
    }
   ],
   "source": [
    "full_list"
   ]
  },
  {
   "cell_type": "code",
   "execution_count": null,
   "metadata": {},
   "outputs": [],
   "source": []
  },
  {
   "cell_type": "code",
   "execution_count": null,
   "metadata": {},
   "outputs": [],
   "source": []
  },
  {
   "cell_type": "code",
   "execution_count": 288,
   "metadata": {},
   "outputs": [],
   "source": [
    "item_image = soup.select('a.link__item > img.image__item')"
   ]
  },
  {
   "cell_type": "code",
   "execution_count": 289,
   "metadata": {},
   "outputs": [
    {
     "data": {
      "text/plain": [
       "[<img alt=\"이미지로딩중\" class=\"image__item\" src=\"//pics.gmarket.co.kr/pc/single/kr/snowwhite/common/lazyload_image_itemcard_300x300.png\"/>,\n",
       " <img alt=\"이미지로딩중\" class=\"image__item\" src=\"//pics.gmarket.co.kr/pc/single/kr/snowwhite/common/lazyload_image_itemcard_300x300.png\"/>,\n",
       " <img alt=\"이미지로딩중\" class=\"image__item\" src=\"//pics.gmarket.co.kr/pc/single/kr/snowwhite/common/lazyload_image_itemcard_300x300.png\"/>,\n",
       " <img alt=\"이미지로딩중\" class=\"image__item\" src=\"//pics.gmarket.co.kr/pc/single/kr/snowwhite/common/lazyload_image_itemcard_300x300.png\"/>,\n",
       " <img alt=\"이미지로딩중\" class=\"image__item\" src=\"//pics.gmarket.co.kr/pc/single/kr/snowwhite/common/lazyload_image_itemcard_300x300.png\"/>,\n",
       " <img alt=\"이미지로딩중\" class=\"image__item\" src=\"//pics.gmarket.co.kr/pc/single/kr/snowwhite/common/lazyload_image_itemcard_300x300.png\"/>,\n",
       " <img alt=\"이미지로딩중\" class=\"image__item\" src=\"//pics.gmarket.co.kr/pc/single/kr/snowwhite/common/lazyload_image_itemcard_300x300.png\"/>,\n",
       " <img alt=\"이미지로딩중\" class=\"image__item\" src=\"//pics.gmarket.co.kr/pc/single/kr/snowwhite/common/lazyload_image_itemcard_300x300.png\"/>,\n",
       " <img alt=\"이미지로딩중\" class=\"image__item\" src=\"//pics.gmarket.co.kr/pc/single/kr/snowwhite/common/lazyload_image_itemcard_300x300.png\"/>,\n",
       " <img alt=\"이미지로딩중\" class=\"image__item\" src=\"//pics.gmarket.co.kr/pc/single/kr/snowwhite/common/lazyload_image_itemcard_300x300.png\"/>]"
      ]
     },
     "execution_count": 289,
     "metadata": {},
     "output_type": "execute_result"
    }
   ],
   "source": [
    "item_image"
   ]
  },
  {
   "cell_type": "code",
   "execution_count": null,
   "metadata": {},
   "outputs": [],
   "source": []
  }
 ],
 "metadata": {
  "kernelspec": {
   "display_name": "Python 3",
   "language": "python",
   "name": "python3"
  },
  "language_info": {
   "codemirror_mode": {
    "name": "ipython",
    "version": 3
   },
   "file_extension": ".py",
   "mimetype": "text/x-python",
   "name": "python",
   "nbconvert_exporter": "python",
   "pygments_lexer": "ipython3",
   "version": "3.7.5"
  }
 },
 "nbformat": 4,
 "nbformat_minor": 4
}
